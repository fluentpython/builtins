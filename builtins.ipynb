{
 "cells": [
  {
   "cell_type": "markdown",
   "metadata": {},
   "source": [
    "# builtins\n",
    "\n",
    "Explorando funções e classes embutidas em Python 3.7+"
   ]
  },
  {
   "cell_type": "code",
   "execution_count": 1,
   "metadata": {},
   "outputs": [
    {
     "data": {
      "text/plain": [
       "'3.7.4 (default, Aug 13 2019, 20:35:49) \\n[GCC 7.3.0]'"
      ]
     },
     "execution_count": 1,
     "metadata": {},
     "output_type": "execute_result"
    }
   ],
   "source": [
    "import sys\n",
    "sys.version"
   ]
  },
  {
   "cell_type": "code",
   "execution_count": 2,
   "metadata": {},
   "outputs": [
    {
     "name": "stdout",
     "output_type": "stream",
     "text": [
      "['In', 'Out', '_', '_1', '__', '___', '__builtin__', '__builtins__', '__doc__', '__loader__', '__name__', '__package__', '__spec__', '_dh', '_i', '_i1', '_i2', '_ih', '_ii', '_iii', '_oh', 'exit', 'get_ipython', 'quit', 'sys']\n"
     ]
    }
   ],
   "source": [
    "print(dir())"
   ]
  },
  {
   "cell_type": "code",
   "execution_count": 3,
   "metadata": {},
   "outputs": [
    {
     "data": {
      "text/plain": [
       "True"
      ]
     },
     "execution_count": 3,
     "metadata": {},
     "output_type": "execute_result"
    }
   ],
   "source": [
    "__builtin__ == __builtins__"
   ]
  },
  {
   "cell_type": "code",
   "execution_count": 4,
   "metadata": {},
   "outputs": [
    {
     "name": "stdout",
     "output_type": "stream",
     "text": [
      "['ArithmeticError', 'AssertionError', 'AttributeError', 'BaseException', 'BlockingIOError', 'BrokenPipeError', 'BufferError', 'BytesWarning', 'ChildProcessError', 'ConnectionAbortedError', 'ConnectionError', 'ConnectionRefusedError', 'ConnectionResetError', 'DeprecationWarning', 'EOFError', 'Ellipsis', 'EnvironmentError', 'Exception', 'False', 'FileExistsError', 'FileNotFoundError', 'FloatingPointError', 'FutureWarning', 'GeneratorExit', 'IOError', 'ImportError', 'ImportWarning', 'IndentationError', 'IndexError', 'InterruptedError', 'IsADirectoryError', 'KeyError', 'KeyboardInterrupt', 'LookupError', 'MemoryError', 'ModuleNotFoundError', 'NameError', 'None', 'NotADirectoryError', 'NotImplemented', 'NotImplementedError', 'OSError', 'OverflowError', 'PendingDeprecationWarning', 'PermissionError', 'ProcessLookupError', 'RecursionError', 'ReferenceError', 'ResourceWarning', 'RuntimeError', 'RuntimeWarning', 'StopAsyncIteration', 'StopIteration', 'SyntaxError', 'SyntaxWarning', 'SystemError', 'SystemExit', 'TabError', 'TimeoutError', 'True', 'TypeError', 'UnboundLocalError', 'UnicodeDecodeError', 'UnicodeEncodeError', 'UnicodeError', 'UnicodeTranslateError', 'UnicodeWarning', 'UserWarning', 'ValueError', 'Warning', 'ZeroDivisionError', '__IPYTHON__', '__build_class__', '__debug__', '__doc__', '__import__', '__loader__', '__name__', '__package__', '__spec__', 'abs', 'all', 'any', 'ascii', 'bin', 'bool', 'breakpoint', 'bytearray', 'bytes', 'callable', 'chr', 'classmethod', 'compile', 'complex', 'copyright', 'credits', 'delattr', 'dict', 'dir', 'display', 'divmod', 'enumerate', 'eval', 'exec', 'filter', 'float', 'format', 'frozenset', 'get_ipython', 'getattr', 'globals', 'hasattr', 'hash', 'help', 'hex', 'id', 'input', 'int', 'isinstance', 'issubclass', 'iter', 'len', 'license', 'list', 'locals', 'map', 'max', 'memoryview', 'min', 'next', 'object', 'oct', 'open', 'ord', 'pow', 'print', 'property', 'range', 'repr', 'reversed', 'round', 'set', 'setattr', 'slice', 'sorted', 'staticmethod', 'str', 'sum', 'super', 'tuple', 'type', 'vars', 'zip']\n"
     ]
    }
   ],
   "source": [
    "print(dir(__builtin__))"
   ]
  },
  {
   "cell_type": "code",
   "execution_count": 5,
   "metadata": {},
   "outputs": [
    {
     "name": "stdout",
     "output_type": "stream",
     "text": [
      "abs all any ascii bin bool breakpoint bytearray bytes callable chr classmethod compile complex copyright credits delattr dict dir display divmod enumerate eval exec filter float format frozenset get_ipython getattr globals hasattr hash help hex id input int isinstance issubclass iter len license list locals map max memoryview min next object oct open ord pow print property range repr reversed round set setattr slice sorted staticmethod str sum super tuple type vars zip\n"
     ]
    }
   ],
   "source": [
    "nomes = [s for s in dir(__builtin__) if s == s.lower() and s[0] != '_']\n",
    "print(*nomes)"
   ]
  },
  {
   "cell_type": "code",
   "execution_count": 6,
   "metadata": {},
   "outputs": [
    {
     "name": "stdout",
     "output_type": "stream",
     "text": [
      "abs\tbuiltin_function_or_method\n",
      "all\tbuiltin_function_or_method\n",
      "any\tbuiltin_function_or_method\n",
      "ascii\tbuiltin_function_or_method\n",
      "bin\tbuiltin_function_or_method\n",
      "bool\ttype\n",
      "breakpoint\tbuiltin_function_or_method\n",
      "bytearray\ttype\n",
      "bytes\ttype\n",
      "callable\tbuiltin_function_or_method\n",
      "chr\tbuiltin_function_or_method\n",
      "classmethod\ttype\n",
      "compile\tbuiltin_function_or_method\n",
      "complex\ttype\n",
      "copyright\t_Printer\n",
      "credits\t_Printer\n",
      "delattr\tbuiltin_function_or_method\n",
      "dict\ttype\n",
      "dir\tbuiltin_function_or_method\n",
      "display\tfunction\n",
      "divmod\tbuiltin_function_or_method\n",
      "enumerate\ttype\n",
      "eval\tbuiltin_function_or_method\n",
      "exec\tbuiltin_function_or_method\n",
      "filter\ttype\n",
      "float\ttype\n",
      "format\tbuiltin_function_or_method\n",
      "frozenset\ttype\n",
      "get_ipython\tmethod\n",
      "getattr\tbuiltin_function_or_method\n",
      "globals\tbuiltin_function_or_method\n",
      "hasattr\tbuiltin_function_or_method\n",
      "hash\tbuiltin_function_or_method\n",
      "help\t_Helper\n",
      "hex\tbuiltin_function_or_method\n",
      "id\tbuiltin_function_or_method\n",
      "input\tmethod\n",
      "int\ttype\n",
      "isinstance\tbuiltin_function_or_method\n",
      "issubclass\tbuiltin_function_or_method\n",
      "iter\tbuiltin_function_or_method\n",
      "len\tbuiltin_function_or_method\n",
      "license\t_Printer\n",
      "list\ttype\n",
      "locals\tbuiltin_function_or_method\n",
      "map\ttype\n",
      "max\tbuiltin_function_or_method\n",
      "memoryview\ttype\n",
      "min\tbuiltin_function_or_method\n",
      "next\tbuiltin_function_or_method\n",
      "object\ttype\n",
      "oct\tbuiltin_function_or_method\n",
      "open\tbuiltin_function_or_method\n",
      "ord\tbuiltin_function_or_method\n",
      "pow\tbuiltin_function_or_method\n",
      "print\tbuiltin_function_or_method\n",
      "property\ttype\n",
      "range\ttype\n",
      "repr\tbuiltin_function_or_method\n",
      "reversed\ttype\n",
      "round\tbuiltin_function_or_method\n",
      "set\ttype\n",
      "setattr\tbuiltin_function_or_method\n",
      "slice\ttype\n",
      "sorted\tbuiltin_function_or_method\n",
      "staticmethod\ttype\n",
      "str\ttype\n",
      "sum\tbuiltin_function_or_method\n",
      "super\ttype\n",
      "tuple\ttype\n",
      "type\ttype\n",
      "vars\tbuiltin_function_or_method\n",
      "zip\ttype\n"
     ]
    }
   ],
   "source": [
    "for nome in nomes:\n",
    "    obj = getattr(__builtin__, nome)\n",
    "    print(nome, type(obj).__name__, sep='\\t')"
   ]
  },
  {
   "cell_type": "code",
   "execution_count": 7,
   "metadata": {},
   "outputs": [],
   "source": [
    "categorias = []\n",
    "for nome in nomes:\n",
    "    obj = getattr(__builtin__, nome)\n",
    "    if obj is input:\n",
    "        categorias.append(('builtin_function_or_method', 'input'))\n",
    "    else:\n",
    "        categorias.append((type(obj).__name__, nome))"
   ]
  },
  {
   "cell_type": "code",
   "execution_count": 8,
   "metadata": {
    "scrolled": true
   },
   "outputs": [
    {
     "name": "stdout",
     "output_type": "stream",
     "text": [
      "******************** _Helper\n",
      "help\n",
      "******************** _Printer\n",
      "copyright\n",
      "credits\n",
      "license\n",
      "******************** builtin_function_or_method\n",
      "abs\n",
      "all\n",
      "any\n",
      "ascii\n",
      "bin\n",
      "breakpoint\n",
      "callable\n",
      "chr\n",
      "compile\n",
      "delattr\n",
      "dir\n",
      "divmod\n",
      "eval\n",
      "exec\n",
      "format\n",
      "getattr\n",
      "globals\n",
      "hasattr\n",
      "hash\n",
      "hex\n",
      "id\n",
      "input\n",
      "isinstance\n",
      "issubclass\n",
      "iter\n",
      "len\n",
      "locals\n",
      "max\n",
      "min\n",
      "next\n",
      "oct\n",
      "open\n",
      "ord\n",
      "pow\n",
      "print\n",
      "repr\n",
      "round\n",
      "setattr\n",
      "sorted\n",
      "sum\n",
      "vars\n",
      "******************** function\n",
      "display\n",
      "******************** method\n",
      "get_ipython\n",
      "******************** type\n",
      "bool\n",
      "bytearray\n",
      "bytes\n",
      "classmethod\n",
      "complex\n",
      "dict\n",
      "enumerate\n",
      "filter\n",
      "float\n",
      "frozenset\n",
      "int\n",
      "list\n",
      "map\n",
      "memoryview\n",
      "object\n",
      "property\n",
      "range\n",
      "reversed\n",
      "set\n",
      "slice\n",
      "staticmethod\n",
      "str\n",
      "super\n",
      "tuple\n",
      "type\n",
      "zip\n"
     ]
    }
   ],
   "source": [
    "from itertools import groupby\n",
    "from operator import itemgetter\n",
    "\n",
    "for categoria, grupo in groupby(sorted(categorias), itemgetter(0)):\n",
    "    print('*' * 20, categoria)\n",
    "    for _, nome in grupo:\n",
    "        print(nome)"
   ]
  },
  {
   "cell_type": "code",
   "execution_count": null,
   "metadata": {},
   "outputs": [],
   "source": []
  }
 ],
 "metadata": {
  "kernelspec": {
   "display_name": "Python 3",
   "language": "python",
   "name": "python3"
  },
  "language_info": {
   "codemirror_mode": {
    "name": "ipython",
    "version": 3
   },
   "file_extension": ".py",
   "mimetype": "text/x-python",
   "name": "python",
   "nbconvert_exporter": "python",
   "pygments_lexer": "ipython3",
   "version": "3.7.4"
  }
 },
 "nbformat": 4,
 "nbformat_minor": 2
}
