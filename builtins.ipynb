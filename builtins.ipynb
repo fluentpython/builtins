{
 "cells": [
  {
   "cell_type": "markdown",
   "metadata": {},
   "source": [
    "# builtins\n",
    "\n",
    "Explorando funções e classes embutidas em Python 3.7+"
   ]
  },
  {
   "cell_type": "code",
   "execution_count": 1,
   "metadata": {},
   "outputs": [
    {
     "data": {
      "text/plain": [
       "'3.7.4 (default, Aug 13 2019, 20:35:49) \\n[GCC 7.3.0]'"
      ]
     },
     "execution_count": 1,
     "metadata": {},
     "output_type": "execute_result"
    }
   ],
   "source": [
    "import sys\n",
    "sys.version"
   ]
  },
  {
   "cell_type": "code",
   "execution_count": 2,
   "metadata": {},
   "outputs": [
    {
     "data": {
      "text/plain": [
       "['In',\n",
       " 'Out',\n",
       " '_',\n",
       " '_1',\n",
       " '__',\n",
       " '___',\n",
       " '__builtin__',\n",
       " '__builtins__',\n",
       " '__doc__',\n",
       " '__loader__',\n",
       " '__name__',\n",
       " '__package__',\n",
       " '__spec__',\n",
       " '_dh',\n",
       " '_i',\n",
       " '_i1',\n",
       " '_i2',\n",
       " '_ih',\n",
       " '_ii',\n",
       " '_iii',\n",
       " '_oh',\n",
       " 'exit',\n",
       " 'get_ipython',\n",
       " 'quit',\n",
       " 'sys']"
      ]
     },
     "execution_count": 2,
     "metadata": {},
     "output_type": "execute_result"
    }
   ],
   "source": [
    "dir()"
   ]
  },
  {
   "cell_type": "code",
   "execution_count": 3,
   "metadata": {},
   "outputs": [
    {
     "name": "stdout",
     "output_type": "stream",
     "text": [
      "In  Out  _  _1  _2  __  ___  __builtin__  __builtins__  __doc__  __loader__  __name__  __package__  __spec__  _dh  _i  _i1  _i2  _i3  _ih  _ii  _iii  _oh  exit  get_ipython  quit  sys\n"
     ]
    }
   ],
   "source": [
    "print(*dir(), sep='  ')"
   ]
  },
  {
   "cell_type": "code",
   "execution_count": 4,
   "metadata": {},
   "outputs": [
    {
     "data": {
      "text/plain": [
       "True"
      ]
     },
     "execution_count": 4,
     "metadata": {},
     "output_type": "execute_result"
    }
   ],
   "source": [
    "__builtin__ is __builtins__"
   ]
  },
  {
   "cell_type": "code",
   "execution_count": 5,
   "metadata": {},
   "outputs": [
    {
     "name": "stdout",
     "output_type": "stream",
     "text": [
      "Built-in functions, exceptions, and other objects.\n",
      "\n",
      "Noteworthy: None is the `nil' object; Ellipsis represents `...' in slices.\n"
     ]
    }
   ],
   "source": [
    "print(__builtin__.__doc__)"
   ]
  },
  {
   "cell_type": "code",
   "execution_count": 6,
   "metadata": {},
   "outputs": [
    {
     "name": "stdout",
     "output_type": "stream",
     "text": [
      "ArithmeticError  AssertionError  AttributeError  BaseException  BlockingIOError  BrokenPipeError  BufferError  BytesWarning  ChildProcessError  ConnectionAbortedError  ConnectionError  ConnectionRefusedError  ConnectionResetError  DeprecationWarning  EOFError  Ellipsis  EnvironmentError  Exception  False  FileExistsError  FileNotFoundError  FloatingPointError  FutureWarning  GeneratorExit  IOError  ImportError  ImportWarning  IndentationError  IndexError  InterruptedError  IsADirectoryError  KeyError  KeyboardInterrupt  LookupError  MemoryError  ModuleNotFoundError  NameError  None  NotADirectoryError  NotImplemented  NotImplementedError  OSError  OverflowError  PendingDeprecationWarning  PermissionError  ProcessLookupError  RecursionError  ReferenceError  ResourceWarning  RuntimeError  RuntimeWarning  StopAsyncIteration  StopIteration  SyntaxError  SyntaxWarning  SystemError  SystemExit  TabError  TimeoutError  True  TypeError  UnboundLocalError  UnicodeDecodeError  UnicodeEncodeError  UnicodeError  UnicodeTranslateError  UnicodeWarning  UserWarning  ValueError  Warning  ZeroDivisionError  __IPYTHON__  __build_class__  __debug__  __doc__  __import__  __loader__  __name__  __package__  __spec__  abs  all  any  ascii  bin  bool  breakpoint  bytearray  bytes  callable  chr  classmethod  compile  complex  copyright  credits  delattr  dict  dir  display  divmod  enumerate  eval  exec  filter  float  format  frozenset  get_ipython  getattr  globals  hasattr  hash  help  hex  id  input  int  isinstance  issubclass  iter  len  license  list  locals  map  max  memoryview  min  next  object  oct  open  ord  pow  print  property  range  repr  reversed  round  set  setattr  slice  sorted  staticmethod  str  sum  super  tuple  type  vars  zip\n"
     ]
    }
   ],
   "source": [
    "print(*dir(__builtin__), sep='  ')"
   ]
  },
  {
   "cell_type": "code",
   "execution_count": 7,
   "metadata": {},
   "outputs": [
    {
     "name": "stdout",
     "output_type": "stream",
     "text": [
      "abs  all  any  ascii  bin  bool  breakpoint  bytearray  bytes  callable  chr  classmethod  compile  complex  copyright  credits  delattr  dict  dir  display  divmod  enumerate  eval  exec  filter  float  format  frozenset  get_ipython  getattr  globals  hasattr  hash  help  hex  id  input  int  isinstance  issubclass  iter  len  license  list  locals  map  max  memoryview  min  next  object  oct  open  ord  pow  print  property  range  repr  reversed  round  set  setattr  slice  sorted  staticmethod  str  sum  super  tuple  type  vars  zip\n"
     ]
    }
   ],
   "source": [
    "names = [s for s in dir(__builtin__) if s == s.lower() and s[0] != '_']\n",
    "print(*names, sep='  ')"
   ]
  },
  {
   "cell_type": "code",
   "execution_count": 8,
   "metadata": {},
   "outputs": [
    {
     "name": "stdout",
     "output_type": "stream",
     "text": [
      "abs          builtin_function_or_method\n",
      "all          builtin_function_or_method\n",
      "any          builtin_function_or_method\n",
      "ascii        builtin_function_or_method\n",
      "bin          builtin_function_or_method\n",
      "bool         type\n",
      "breakpoint   builtin_function_or_method\n",
      "bytearray    type\n",
      "bytes        type\n",
      "callable     builtin_function_or_method\n",
      "chr          builtin_function_or_method\n",
      "classmethod  type\n",
      "compile      builtin_function_or_method\n",
      "complex      type\n",
      "copyright    _Printer\n",
      "credits      _Printer\n",
      "delattr      builtin_function_or_method\n",
      "dict         type\n",
      "dir          builtin_function_or_method\n",
      "display      function\n",
      "divmod       builtin_function_or_method\n",
      "enumerate    type\n",
      "eval         builtin_function_or_method\n",
      "exec         builtin_function_or_method\n",
      "filter       type\n",
      "float        type\n",
      "format       builtin_function_or_method\n",
      "frozenset    type\n",
      "get_ipython  method\n",
      "getattr      builtin_function_or_method\n",
      "globals      builtin_function_or_method\n",
      "hasattr      builtin_function_or_method\n",
      "hash         builtin_function_or_method\n",
      "help         _Helper\n",
      "hex          builtin_function_or_method\n",
      "id           builtin_function_or_method\n",
      "input        method\n",
      "int          type\n",
      "isinstance   builtin_function_or_method\n",
      "issubclass   builtin_function_or_method\n",
      "iter         builtin_function_or_method\n",
      "len          builtin_function_or_method\n",
      "license      _Printer\n",
      "list         type\n",
      "locals       builtin_function_or_method\n",
      "map          type\n",
      "max          builtin_function_or_method\n",
      "memoryview   type\n",
      "min          builtin_function_or_method\n",
      "next         builtin_function_or_method\n",
      "object       type\n",
      "oct          builtin_function_or_method\n",
      "open         builtin_function_or_method\n",
      "ord          builtin_function_or_method\n",
      "pow          builtin_function_or_method\n",
      "print        builtin_function_or_method\n",
      "property     type\n",
      "range        type\n",
      "repr         builtin_function_or_method\n",
      "reversed     type\n",
      "round        builtin_function_or_method\n",
      "set          type\n",
      "setattr      builtin_function_or_method\n",
      "slice        type\n",
      "sorted       builtin_function_or_method\n",
      "staticmethod type\n",
      "str          type\n",
      "sum          builtin_function_or_method\n",
      "super        type\n",
      "tuple        type\n",
      "type         type\n",
      "vars         builtin_function_or_method\n",
      "zip          type\n"
     ]
    }
   ],
   "source": [
    "for name in names:\n",
    "    obj = getattr(__builtin__, name)\n",
    "    print(f'{name:12s}', type(obj).__name__)"
   ]
  },
  {
   "cell_type": "code",
   "execution_count": 9,
   "metadata": {},
   "outputs": [],
   "source": [
    "categories = []\n",
    "for name in names:\n",
    "    obj = getattr(__builtin__, name)\n",
    "    if obj is input:\n",
    "        categories.append(('builtin_function_or_method', 'input'))\n",
    "    else:\n",
    "        categories.append((type(obj).__name__, name))"
   ]
  },
  {
   "cell_type": "code",
   "execution_count": 10,
   "metadata": {
    "scrolled": true
   },
   "outputs": [
    {
     "name": "stdout",
     "output_type": "stream",
     "text": [
      "──────────────────── _Helper\n",
      "help\n",
      "──────────────────── _Printer\n",
      "copyright\n",
      "credits\n",
      "license\n",
      "──────────────────── builtin_function_or_method\n",
      "abs\n",
      "all\n",
      "any\n",
      "ascii\n",
      "bin\n",
      "breakpoint\n",
      "callable\n",
      "chr\n",
      "compile\n",
      "delattr\n",
      "dir\n",
      "divmod\n",
      "eval\n",
      "exec\n",
      "format\n",
      "getattr\n",
      "globals\n",
      "hasattr\n",
      "hash\n",
      "hex\n",
      "id\n",
      "input\n",
      "isinstance\n",
      "issubclass\n",
      "iter\n",
      "len\n",
      "locals\n",
      "max\n",
      "min\n",
      "next\n",
      "oct\n",
      "open\n",
      "ord\n",
      "pow\n",
      "print\n",
      "repr\n",
      "round\n",
      "setattr\n",
      "sorted\n",
      "sum\n",
      "vars\n",
      "──────────────────── function\n",
      "display\n",
      "──────────────────── method\n",
      "get_ipython\n",
      "──────────────────── type\n",
      "bool\n",
      "bytearray\n",
      "bytes\n",
      "classmethod\n",
      "complex\n",
      "dict\n",
      "enumerate\n",
      "filter\n",
      "float\n",
      "frozenset\n",
      "int\n",
      "list\n",
      "map\n",
      "memoryview\n",
      "object\n",
      "property\n",
      "range\n",
      "reversed\n",
      "set\n",
      "slice\n",
      "staticmethod\n",
      "str\n",
      "super\n",
      "tuple\n",
      "type\n",
      "zip\n"
     ]
    }
   ],
   "source": [
    "from itertools import groupby\n",
    "from operator import itemgetter\n",
    "\n",
    "for category, group in groupby(sorted(categories), itemgetter(0)):\n",
    "    print('─' * 20, category)\n",
    "    for _, name in group:\n",
    "        print(name)"
   ]
  },
  {
   "cell_type": "code",
   "execution_count": 11,
   "metadata": {},
   "outputs": [],
   "source": [
    "Names = [s for s in dir(__builtin__) if s.lower() != s]"
   ]
  },
  {
   "cell_type": "code",
   "execution_count": 12,
   "metadata": {},
   "outputs": [
    {
     "name": "stdout",
     "output_type": "stream",
     "text": [
      "ArithmeticError  AssertionError  AttributeError  BaseException  BlockingIOError  BrokenPipeError  BufferError  BytesWarning  ChildProcessError  ConnectionAbortedError  ConnectionError  ConnectionRefusedError  ConnectionResetError  DeprecationWarning  EOFError  EnvironmentError  Exception  FileExistsError  FileNotFoundError  FloatingPointError  FutureWarning  GeneratorExit  IOError  ImportError  ImportWarning  IndentationError  IndexError  InterruptedError  IsADirectoryError  KeyError  KeyboardInterrupt  LookupError  MemoryError  ModuleNotFoundError  NameError  NotADirectoryError  NotImplementedError  OSError  OverflowError  PendingDeprecationWarning  PermissionError  ProcessLookupError  RecursionError  ReferenceError  ResourceWarning  RuntimeError  RuntimeWarning  StopAsyncIteration  StopIteration  SyntaxError  SyntaxWarning  SystemError  SystemExit  TabError  TimeoutError  TypeError  UnboundLocalError  UnicodeDecodeError  UnicodeEncodeError  UnicodeError  UnicodeTranslateError  UnicodeWarning  UserWarning  ValueError  Warning  ZeroDivisionError\n"
     ]
    }
   ],
   "source": [
    "Exceptions = [s for s in Names if callable(getattr(__builtin__, s))]\n",
    "print(*Exceptions, sep='  ')"
   ]
  },
  {
   "cell_type": "code",
   "execution_count": 13,
   "metadata": {},
   "outputs": [
    {
     "name": "stdout",
     "output_type": "stream",
     "text": [
      "Ellipsis  False  None  NotImplemented  True  __IPYTHON__\n"
     ]
    }
   ],
   "source": [
    "Const = [s for s in Names if not callable(getattr(__builtin__, s))]\n",
    "print(*Const, sep='  ')"
   ]
  },
  {
   "cell_type": "code",
   "execution_count": 14,
   "metadata": {},
   "outputs": [
    {
     "name": "stdout",
     "output_type": "stream",
     "text": [
      "__IPYTHON__  __build_class__  __debug__  __doc__  __import__  __loader__  __name__  __package__  __spec__\n"
     ]
    }
   ],
   "source": [
    "Specials = [s for s in dir(__builtin__) if s[0] == '_']\n",
    "print(*Specials, sep='  ')"
   ]
  },
  {
   "cell_type": "code",
   "execution_count": 15,
   "metadata": {},
   "outputs": [
    {
     "name": "stdout",
     "output_type": "stream",
     "text": [
      "__IPYTHON__      True\n",
      "__build_class__  <built-in function __build_class__>\n",
      "__debug__        True\n",
      "__doc__          \"Built-in functions, exceptions, and other objects.\\n\\nNoteworthy: None is the `nil' object; Ellipsis represents `...' in slices.\"\n",
      "__import__       <built-in function __import__>\n",
      "__loader__       <class '_frozen_importlib.BuiltinImporter'>\n",
      "__name__         'builtins'\n",
      "__package__      ''\n",
      "__spec__         ModuleSpec(name='builtins', loader=<class '_frozen_importlib.BuiltinImporter'>)\n"
     ]
    }
   ],
   "source": [
    "print('\\n'.join(f'{n:16s} {getattr(__builtin__, n)!r}' for n in Specials))"
   ]
  },
  {
   "cell_type": "code",
   "execution_count": null,
   "metadata": {},
   "outputs": [],
   "source": []
  }
 ],
 "metadata": {
  "kernelspec": {
   "display_name": "Python 3",
   "language": "python",
   "name": "python3"
  },
  "language_info": {
   "codemirror_mode": {
    "name": "ipython",
    "version": 3
   },
   "file_extension": ".py",
   "mimetype": "text/x-python",
   "name": "python",
   "nbconvert_exporter": "python",
   "pygments_lexer": "ipython3",
   "version": "3.7.4"
  }
 },
 "nbformat": 4,
 "nbformat_minor": 2
}
