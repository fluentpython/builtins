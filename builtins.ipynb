{
 "cells": [
  {
   "cell_type": "markdown",
   "metadata": {},
   "source": [
    "# builtins\n",
    "\n",
    "Explorando funções e classes embutidas em Python 3.7+"
   ]
  },
  {
   "cell_type": "code",
   "execution_count": 1,
   "metadata": {},
   "outputs": [
    {
     "name": "stdout",
     "output_type": "stream",
     "text": [
      "3.7.1 (default, Dec 14 2018, 13:28:58) \n",
      "[Clang 4.0.1 (tags/RELEASE_401/final)]\n"
     ]
    }
   ],
   "source": [
    "import sys\n",
    "print(sys.version)"
   ]
  },
  {
   "cell_type": "code",
   "execution_count": 2,
   "metadata": {},
   "outputs": [
    {
     "data": {
      "text/plain": [
       "['In',\n",
       " 'Out',\n",
       " '_',\n",
       " '__',\n",
       " '___',\n",
       " '__builtin__',\n",
       " '__builtins__',\n",
       " '__doc__',\n",
       " '__loader__',\n",
       " '__name__',\n",
       " '__package__',\n",
       " '__spec__',\n",
       " '_dh',\n",
       " '_i',\n",
       " '_i1',\n",
       " '_i2',\n",
       " '_ih',\n",
       " '_ii',\n",
       " '_iii',\n",
       " '_oh',\n",
       " 'exit',\n",
       " 'get_ipython',\n",
       " 'quit',\n",
       " 'sys']"
      ]
     },
     "execution_count": 2,
     "metadata": {},
     "output_type": "execute_result"
    }
   ],
   "source": [
    "dir()"
   ]
  },
  {
   "cell_type": "code",
   "execution_count": 3,
   "metadata": {},
   "outputs": [
    {
     "name": "stdout",
     "output_type": "stream",
     "text": [
      "In  Out  _  _2  __  ___  __builtin__  __builtins__  __doc__  __loader__  __name__  __package__  __spec__  _dh  _i  _i1  _i2  _i3  _ih  _ii  _iii  _oh  exit  get_ipython  quit  sys\n"
     ]
    }
   ],
   "source": [
    "print(*dir(), sep='  ')"
   ]
  },
  {
   "cell_type": "code",
   "execution_count": 4,
   "metadata": {},
   "outputs": [
    {
     "data": {
      "text/plain": [
       "True"
      ]
     },
     "execution_count": 4,
     "metadata": {},
     "output_type": "execute_result"
    }
   ],
   "source": [
    "__builtin__ is __builtins__"
   ]
  },
  {
   "cell_type": "code",
   "execution_count": 5,
   "metadata": {},
   "outputs": [
    {
     "name": "stdout",
     "output_type": "stream",
     "text": [
      "Built-in functions, exceptions, and other objects.\n",
      "\n",
      "Noteworthy: None is the `nil' object; Ellipsis represents `...' in slices.\n"
     ]
    }
   ],
   "source": [
    "print(__builtins__.__doc__)"
   ]
  },
  {
   "cell_type": "code",
   "execution_count": 6,
   "metadata": {},
   "outputs": [
    {
     "name": "stdout",
     "output_type": "stream",
     "text": [
      "ArithmeticError  AssertionError  AttributeError  BaseException  BlockingIOError  BrokenPipeError  BufferError  BytesWarning  ChildProcessError  ConnectionAbortedError  ConnectionError  ConnectionRefusedError  ConnectionResetError  DeprecationWarning  EOFError  Ellipsis  EnvironmentError  Exception  False  FileExistsError  FileNotFoundError  FloatingPointError  FutureWarning  GeneratorExit  IOError  ImportError  ImportWarning  IndentationError  IndexError  InterruptedError  IsADirectoryError  KeyError  KeyboardInterrupt  LookupError  MemoryError  ModuleNotFoundError  NameError  None  NotADirectoryError  NotImplemented  NotImplementedError  OSError  OverflowError  PendingDeprecationWarning  PermissionError  ProcessLookupError  RecursionError  ReferenceError  ResourceWarning  RuntimeError  RuntimeWarning  StopAsyncIteration  StopIteration  SyntaxError  SyntaxWarning  SystemError  SystemExit  TabError  TimeoutError  True  TypeError  UnboundLocalError  UnicodeDecodeError  UnicodeEncodeError  UnicodeError  UnicodeTranslateError  UnicodeWarning  UserWarning  ValueError  Warning  ZeroDivisionError  __IPYTHON__  __build_class__  __debug__  __doc__  __import__  __loader__  __name__  __package__  __spec__  abs  all  any  ascii  bin  bool  breakpoint  bytearray  bytes  callable  chr  classmethod  compile  complex  copyright  credits  delattr  dict  dir  display  divmod  enumerate  eval  exec  filter  float  format  frozenset  get_ipython  getattr  globals  hasattr  hash  help  hex  id  input  int  isinstance  issubclass  iter  len  license  list  locals  map  max  memoryview  min  next  object  oct  open  ord  pow  print  property  range  repr  reversed  round  set  setattr  slice  sorted  staticmethod  str  sum  super  tuple  type  vars  zip\n"
     ]
    }
   ],
   "source": [
    "print(*dir(__builtins__), sep='  ')"
   ]
  },
  {
   "cell_type": "code",
   "execution_count": 7,
   "metadata": {},
   "outputs": [
    {
     "name": "stdout",
     "output_type": "stream",
     "text": [
      "abs  all  any  ascii  bin  bool  breakpoint  bytearray  bytes  callable  chr  classmethod  compile  complex  copyright  credits  delattr  dict  dir  display  divmod  enumerate  eval  exec  filter  float  format  frozenset  get_ipython  getattr  globals  hasattr  hash  help  hex  id  input  int  isinstance  issubclass  iter  len  license  list  locals  map  max  memoryview  min  next  object  oct  open  ord  pow  print  property  range  repr  reversed  round  set  setattr  slice  sorted  staticmethod  str  sum  super  tuple  type  vars  zip\n"
     ]
    }
   ],
   "source": [
    "names = [s for s in dir(__builtins__) if s == s.lower() and s[0] != '_']\n",
    "print(*names, sep='  ')"
   ]
  },
  {
   "cell_type": "code",
   "execution_count": 8,
   "metadata": {},
   "outputs": [
    {
     "name": "stdout",
     "output_type": "stream",
     "text": [
      "abs          builtin_function_or_method\n",
      "all          builtin_function_or_method\n",
      "any          builtin_function_or_method\n",
      "ascii        builtin_function_or_method\n",
      "bin          builtin_function_or_method\n",
      "bool         type\n",
      "breakpoint   builtin_function_or_method\n",
      "bytearray    type\n",
      "bytes        type\n",
      "callable     builtin_function_or_method\n",
      "chr          builtin_function_or_method\n",
      "classmethod  type\n",
      "compile      builtin_function_or_method\n",
      "complex      type\n",
      "copyright    _Printer\n",
      "credits      _Printer\n",
      "delattr      builtin_function_or_method\n",
      "dict         type\n",
      "dir          builtin_function_or_method\n",
      "display      function\n",
      "divmod       builtin_function_or_method\n",
      "enumerate    type\n",
      "eval         builtin_function_or_method\n",
      "exec         builtin_function_or_method\n",
      "filter       type\n",
      "float        type\n",
      "format       builtin_function_or_method\n",
      "frozenset    type\n",
      "get_ipython  method\n",
      "getattr      builtin_function_or_method\n",
      "globals      builtin_function_or_method\n",
      "hasattr      builtin_function_or_method\n",
      "hash         builtin_function_or_method\n",
      "help         _Helper\n",
      "hex          builtin_function_or_method\n",
      "id           builtin_function_or_method\n",
      "input        method\n",
      "int          type\n",
      "isinstance   builtin_function_or_method\n",
      "issubclass   builtin_function_or_method\n",
      "iter         builtin_function_or_method\n",
      "len          builtin_function_or_method\n",
      "license      _Printer\n",
      "list         type\n",
      "locals       builtin_function_or_method\n",
      "map          type\n",
      "max          builtin_function_or_method\n",
      "memoryview   type\n",
      "min          builtin_function_or_method\n",
      "next         builtin_function_or_method\n",
      "object       type\n",
      "oct          builtin_function_or_method\n",
      "open         builtin_function_or_method\n",
      "ord          builtin_function_or_method\n",
      "pow          builtin_function_or_method\n",
      "print        builtin_function_or_method\n",
      "property     type\n",
      "range        type\n",
      "repr         builtin_function_or_method\n",
      "reversed     type\n",
      "round        builtin_function_or_method\n",
      "set          type\n",
      "setattr      builtin_function_or_method\n",
      "slice        type\n",
      "sorted       builtin_function_or_method\n",
      "staticmethod type\n",
      "str          type\n",
      "sum          builtin_function_or_method\n",
      "super        type\n",
      "tuple        type\n",
      "type         type\n",
      "vars         builtin_function_or_method\n",
      "zip          type\n"
     ]
    }
   ],
   "source": [
    "for name in names:\n",
    "    obj = getattr(__builtins__, name)\n",
    "    print(f'{name:12s}', type(obj).__name__)"
   ]
  },
  {
   "cell_type": "code",
   "execution_count": 9,
   "metadata": {},
   "outputs": [
    {
     "name": "stdout",
     "output_type": "stream",
     "text": [
      "('builtin_function_or_method', 'abs')\n",
      "('builtin_function_or_method', 'all')\n",
      "('builtin_function_or_method', 'any')\n",
      "('builtin_function_or_method', 'ascii')\n",
      "('builtin_function_or_method', 'bin')\n",
      "('type', 'bool')\n",
      "('builtin_function_or_method', 'breakpoint')\n",
      "('type', 'bytearray')\n",
      "('type', 'bytes')\n",
      "('builtin_function_or_method', 'callable')\n",
      "('builtin_function_or_method', 'chr')\n",
      "('type', 'classmethod')\n",
      "('builtin_function_or_method', 'compile')\n",
      "('type', 'complex')\n",
      "('_Printer', 'copyright')\n",
      "('_Printer', 'credits')\n",
      "('builtin_function_or_method', 'delattr')\n",
      "('type', 'dict')\n",
      "('builtin_function_or_method', 'dir')\n",
      "('function', 'display')\n",
      "('builtin_function_or_method', 'divmod')\n",
      "('type', 'enumerate')\n",
      "('builtin_function_or_method', 'eval')\n",
      "('builtin_function_or_method', 'exec')\n",
      "('type', 'filter')\n",
      "('type', 'float')\n",
      "('builtin_function_or_method', 'format')\n",
      "('type', 'frozenset')\n",
      "('method', 'get_ipython')\n",
      "('builtin_function_or_method', 'getattr')\n",
      "('builtin_function_or_method', 'globals')\n",
      "('builtin_function_or_method', 'hasattr')\n",
      "('builtin_function_or_method', 'hash')\n",
      "('_Helper', 'help')\n",
      "('builtin_function_or_method', 'hex')\n",
      "('builtin_function_or_method', 'id')\n",
      "('method', 'input')\n",
      "('type', 'int')\n",
      "('builtin_function_or_method', 'isinstance')\n",
      "('builtin_function_or_method', 'issubclass')\n",
      "('builtin_function_or_method', 'iter')\n",
      "('builtin_function_or_method', 'len')\n",
      "('_Printer', 'license')\n",
      "('type', 'list')\n",
      "('builtin_function_or_method', 'locals')\n",
      "('type', 'map')\n",
      "('builtin_function_or_method', 'max')\n",
      "('type', 'memoryview')\n",
      "('builtin_function_or_method', 'min')\n",
      "('builtin_function_or_method', 'next')\n",
      "('type', 'object')\n",
      "('builtin_function_or_method', 'oct')\n",
      "('builtin_function_or_method', 'open')\n",
      "('builtin_function_or_method', 'ord')\n",
      "('builtin_function_or_method', 'pow')\n",
      "('builtin_function_or_method', 'print')\n",
      "('type', 'property')\n",
      "('type', 'range')\n",
      "('builtin_function_or_method', 'repr')\n",
      "('type', 'reversed')\n",
      "('builtin_function_or_method', 'round')\n",
      "('type', 'set')\n",
      "('builtin_function_or_method', 'setattr')\n",
      "('type', 'slice')\n",
      "('builtin_function_or_method', 'sorted')\n",
      "('type', 'staticmethod')\n",
      "('type', 'str')\n",
      "('builtin_function_or_method', 'sum')\n",
      "('type', 'super')\n",
      "('type', 'tuple')\n",
      "('type', 'type')\n",
      "('builtin_function_or_method', 'vars')\n",
      "('type', 'zip')\n"
     ]
    }
   ],
   "source": [
    "categorized = []\n",
    "for name in names:\n",
    "    obj = getattr(__builtins__, name)\n",
    "    categorized.append((type(obj).__name__, name))\n",
    "\n",
    "print(*categorized, sep='\\n')"
   ]
  },
  {
   "cell_type": "code",
   "execution_count": 10,
   "metadata": {
    "scrolled": true
   },
   "outputs": [
    {
     "name": "stdout",
     "output_type": "stream",
     "text": [
      "────────── _Helper\n",
      "help\n",
      "────────── _Printer\n",
      "copyright\n",
      "credits\n",
      "license\n",
      "────────── builtin_function_or_method\n",
      "abs\n",
      "all\n",
      "any\n",
      "ascii\n",
      "bin\n",
      "breakpoint\n",
      "callable\n",
      "chr\n",
      "compile\n",
      "delattr\n",
      "dir\n",
      "divmod\n",
      "eval\n",
      "exec\n",
      "format\n",
      "getattr\n",
      "globals\n",
      "hasattr\n",
      "hash\n",
      "hex\n",
      "id\n",
      "isinstance\n",
      "issubclass\n",
      "iter\n",
      "len\n",
      "locals\n",
      "max\n",
      "min\n",
      "next\n",
      "oct\n",
      "open\n",
      "ord\n",
      "pow\n",
      "print\n",
      "repr\n",
      "round\n",
      "setattr\n",
      "sorted\n",
      "sum\n",
      "vars\n",
      "────────── function\n",
      "display\n",
      "────────── method\n",
      "get_ipython\n",
      "input\n",
      "────────── type\n",
      "bool\n",
      "bytearray\n",
      "bytes\n",
      "classmethod\n",
      "complex\n",
      "dict\n",
      "enumerate\n",
      "filter\n",
      "float\n",
      "frozenset\n",
      "int\n",
      "list\n",
      "map\n",
      "memoryview\n",
      "object\n",
      "property\n",
      "range\n",
      "reversed\n",
      "set\n",
      "slice\n",
      "staticmethod\n",
      "str\n",
      "super\n",
      "tuple\n",
      "type\n",
      "zip\n"
     ]
    }
   ],
   "source": [
    "from itertools import groupby\n",
    "from operator import itemgetter\n",
    "\n",
    "for category, group in groupby(sorted(categorized), itemgetter(0)):\n",
    "    print('─' * 10, category)\n",
    "    for _, name in group:\n",
    "        print(name)"
   ]
  },
  {
   "cell_type": "code",
   "execution_count": 11,
   "metadata": {},
   "outputs": [],
   "source": [
    "Names = [s for s in dir(__builtins__) if s.lower() != s]"
   ]
  },
  {
   "cell_type": "code",
   "execution_count": 12,
   "metadata": {},
   "outputs": [
    {
     "name": "stdout",
     "output_type": "stream",
     "text": [
      "ArithmeticError  AssertionError  AttributeError  BaseException  BlockingIOError  BrokenPipeError  BufferError  BytesWarning  ChildProcessError  ConnectionAbortedError  ConnectionError  ConnectionRefusedError  ConnectionResetError  DeprecationWarning  EOFError  EnvironmentError  Exception  FileExistsError  FileNotFoundError  FloatingPointError  FutureWarning  GeneratorExit  IOError  ImportError  ImportWarning  IndentationError  IndexError  InterruptedError  IsADirectoryError  KeyError  KeyboardInterrupt  LookupError  MemoryError  ModuleNotFoundError  NameError  NotADirectoryError  NotImplementedError  OSError  OverflowError  PendingDeprecationWarning  PermissionError  ProcessLookupError  RecursionError  ReferenceError  ResourceWarning  RuntimeError  RuntimeWarning  StopAsyncIteration  StopIteration  SyntaxError  SyntaxWarning  SystemError  SystemExit  TabError  TimeoutError  TypeError  UnboundLocalError  UnicodeDecodeError  UnicodeEncodeError  UnicodeError  UnicodeTranslateError  UnicodeWarning  UserWarning  ValueError  Warning  ZeroDivisionError\n"
     ]
    }
   ],
   "source": [
    "Exceptions = [s for s in Names if callable(getattr(__builtins__, s))]\n",
    "print(*Exceptions, sep='  ')"
   ]
  },
  {
   "cell_type": "code",
   "execution_count": 13,
   "metadata": {},
   "outputs": [
    {
     "name": "stdout",
     "output_type": "stream",
     "text": [
      "BaseException\n",
      "    Exception\n",
      "        AliasError\n",
      "            InvalidAliasError\n",
      "        ApplicationError\n",
      "        ArgumentError\n",
      "        ArgumentError\n",
      "        ArgumentTypeError\n",
      "        ArithmeticError\n",
      "            DecimalException\n",
      "                Clamped\n",
      "                DivisionByZero\n",
      "                FloatOperation\n",
      "                Inexact\n",
      "                    Overflow\n",
      "                    Underflow\n",
      "                InvalidOperation\n",
      "                    ConversionSyntax\n",
      "                    DivisionImpossible\n",
      "                    DivisionUndefined\n",
      "                    InvalidContext\n",
      "                Rounded\n",
      "                    Overflow\n",
      "                    Underflow\n",
      "                Subnormal\n",
      "                    Underflow\n",
      "            FloatingPointError\n",
      "            OverflowError\n",
      "            ZeroDivisionError\n",
      "                DivisionByZero\n",
      "                DivisionUndefined\n",
      "        AssertionError\n",
      "        AttributeError\n",
      "        BadYieldError\n",
      "        BdbQuit\n",
      "        BufferError\n",
      "        ConfigError\n",
      "            ConfigFileNotFound\n",
      "            ConfigLoaderError\n",
      "                ArgumentError\n",
      "        ConfigurableError\n",
      "            MultipleInstanceError\n",
      "        DOMException\n",
      "            DomstringSizeErr\n",
      "            HierarchyRequestErr\n",
      "            IndexSizeErr\n",
      "            InuseAttributeErr\n",
      "            InvalidAccessErr\n",
      "            InvalidCharacterErr\n",
      "            InvalidModificationErr\n",
      "            InvalidStateErr\n",
      "            NamespaceErr\n",
      "            NoDataAllowedErr\n",
      "            NoModificationAllowedErr\n",
      "            NotFoundErr\n",
      "            NotSupportedErr\n",
      "            SyntaxErr\n",
      "            ValidationErr\n",
      "            WrongDocumentErr\n",
      "        DuplicateKernelError\n",
      "        EOFError\n",
      "            IncompleteReadError\n",
      "        EditReadOnlyBuffer\n",
      "        Empty\n",
      "        EndOfBlock\n",
      "        Error\n",
      "        Error\n",
      "        Error\n",
      "            CancelledError\n",
      "            InvalidStateError\n",
      "            TimeoutError\n",
      "        Error\n",
      "            DatabaseError\n",
      "                DataError\n",
      "                IntegrityError\n",
      "                InternalError\n",
      "                NotSupportedError\n",
      "                OperationalError\n",
      "                ProgrammingError\n",
      "            InterfaceError\n",
      "        Error\n",
      "        ErrorDuringImport\n",
      "        ErrorToken\n",
      "        EvaluatorIndexError\n",
      "        EvaluatorKeyError\n",
      "        EvaluatorTypeError\n",
      "        ExceptionPexpect\n",
      "            EOF\n",
      "            TIMEOUT\n",
      "        FakeDoesNotExist\n",
      "        FindCmdError\n",
      "        Full\n",
      "        GetoptError\n",
      "        HTTPException\n",
      "            BadStatusLine\n",
      "                RemoteDisconnected\n",
      "            ImproperConnectionState\n",
      "                CannotSendHeader\n",
      "                CannotSendRequest\n",
      "                ResponseNotReady\n",
      "            IncompleteRead\n",
      "            InvalidURL\n",
      "            LineTooLong\n",
      "            NotConnected\n",
      "            UnimplementedFileMode\n",
      "            UnknownProtocol\n",
      "            UnknownTransferEncoding\n",
      "        HeightIsUnknownError\n",
      "        HomeDirError\n",
      "        IPythonCoreError\n",
      "            StdinNotImplementedError\n",
      "            TryNext\n",
      "            UsageError\n",
      "        ImportError\n",
      "            ModuleNotFoundError\n",
      "            ZipImportError\n",
      "        Incomplete\n",
      "        InputRejected\n",
      "        InteractivelyDefined\n",
      "        InternalParseError\n",
      "        InvalidLayoutError\n",
      "        InvalidPortNumber\n",
      "        InvalidPythonEnvironment\n",
      "        InvalidStateError\n",
      "        KeyReuseError\n",
      "        KillEmbedded\n",
      "        LZMAError\n",
      "        LeakedCallbackError\n",
      "        LimitOverrunError\n",
      "        LookupError\n",
      "            CodecRegistryError\n",
      "            IndexError\n",
      "            KeyError\n",
      "                NoSuchKernel\n",
      "                UnknownBackend\n",
      "        MemoryError\n",
      "        MessageError\n",
      "            CharsetError\n",
      "            MessageParseError\n",
      "                BoundaryError\n",
      "                HeaderParseError\n",
      "            MultipartConversionError\n",
      "        NameError\n",
      "            UnboundLocalError\n",
      "        NoIPAddresses\n",
      "        NoRunningApplicationError\n",
      "        OSError\n",
      "            BlockingIOError\n",
      "            ChildProcessError\n",
      "            ConnectionError\n",
      "                BrokenPipeError\n",
      "                ConnectionAbortedError\n",
      "                ConnectionRefusedError\n",
      "                ConnectionResetError\n",
      "                    RemoteDisconnected\n",
      "            Error\n",
      "                SameFileError\n",
      "            ExecError\n",
      "            FileExistsError\n",
      "            FileNotFoundError\n",
      "            InterruptedError\n",
      "                InterruptedSystemCall\n",
      "            IsADirectoryError\n",
      "            ItimerError\n",
      "            NotADirectoryError\n",
      "            PermissionError\n",
      "            ProcessLookupError\n",
      "            ReadError\n",
      "            SSLError\n",
      "                SSLCertVerificationError\n",
      "                SSLEOFError\n",
      "                SSLSyscallError\n",
      "                SSLWantReadError\n",
      "                SSLWantWriteError\n",
      "                SSLZeroReturnError\n",
      "            SpecialFileError\n",
      "            TimeoutError\n",
      "            URLError\n",
      "                ContentTooShortError\n",
      "                HTTPError\n",
      "            UnsupportedOperation\n",
      "            gaierror\n",
      "            herror\n",
      "            timeout\n",
      "        OnErrorLeaf\n",
      "        OptionError\n",
      "        ParserSyntaxError\n",
      "        PickleError\n",
      "            PicklingError\n",
      "            UnpicklingError\n",
      "        PrefilterError\n",
      "        ProfileDirError\n",
      "        PtyProcessError\n",
      "        QueueEmpty\n",
      "        QueueEmpty\n",
      "        QueueFull\n",
      "        QueueFull\n",
      "        ReferenceError\n",
      "        RegistryError\n",
      "        Restart\n",
      "        Return\n",
      "        Return\n",
      "        ReturnValueIgnoredError\n",
      "        ReturnValueIgnoredError\n",
      "        RuntimeError\n",
      "            BrokenBarrierError\n",
      "            BrokenExecutor\n",
      "                BrokenThreadPool\n",
      "            NotImplementedError\n",
      "                StdinNotImplementedError\n",
      "                ZMQVersionError\n",
      "            RecursionError\n",
      "            SendfileNotAvailableError\n",
      "            _DeadlockError\n",
      "        SpaceInInput\n",
      "        StackContextInconsistentError\n",
      "        StopAsyncIteration\n",
      "        StopIteration\n",
      "        StopTokenizing\n",
      "        SubprocessError\n",
      "            CalledProcessError\n",
      "            TimeoutExpired\n",
      "        SyntaxError\n",
      "            IndentationError\n",
      "                TabError\n",
      "        SystemError\n",
      "            CodecRegistryError\n",
      "        TaskLocalNotSetError\n",
      "        TimeoutError\n",
      "        TokenError\n",
      "        TraitError\n",
      "        TypeError\n",
      "            FloatOperation\n",
      "            MultipartConversionError\n",
      "        UncaughtAttributeError\n",
      "        UnknownKeyError\n",
      "        ValidationError\n",
      "        ValueError\n",
      "            ClassNotFound\n",
      "            ClipboardEmpty\n",
      "            Error\n",
      "            IllegalMonthError\n",
      "            IllegalWeekdayError\n",
      "            JSONDecodeError\n",
      "            MacroToEdit\n",
      "            MessageDefect\n",
      "                CloseBoundaryNotFoundDefect\n",
      "                FirstHeaderLineIsContinuationDefect\n",
      "                HeaderDefect\n",
      "                    HeaderMissingRequiredValue\n",
      "                    InvalidHeaderDefect\n",
      "                    NonASCIILocalPartDefect\n",
      "                    NonPrintableDefect\n",
      "                    ObsoleteHeaderDefect\n",
      "                InvalidBase64CharactersDefect\n",
      "                InvalidBase64LengthDefect\n",
      "                InvalidBase64PaddingDefect\n",
      "                InvalidMultipartContentTransferEncodingDefect\n",
      "                MisplacedEnvelopeHeaderDefect\n",
      "                MissingHeaderBodySeparatorDefect\n",
      "                MultipartInvariantViolationDefect\n",
      "                NoBoundaryInMultipartDefect\n",
      "                StartBoundaryNotFoundDefect\n",
      "                UndecodableBytesDefect\n",
      "            SSLCertVerificationError\n",
      "            UnicodeError\n",
      "                UnicodeDecodeError\n",
      "                UnicodeEncodeError\n",
      "                UnicodeTranslateError\n",
      "            UnsupportedOperation\n",
      "        Verbose\n",
      "        Warning\n",
      "            BytesWarning\n",
      "            DeprecatedTzFormatWarning\n",
      "            DeprecationWarning\n",
      "                ProvisionalWarning\n",
      "            FutureWarning\n",
      "                ProvisionalCompleterWarning\n",
      "            ImportWarning\n",
      "            PendingDeprecationWarning\n",
      "            ResourceWarning\n",
      "            RuntimeWarning\n",
      "                UnknownTimezoneWarning\n",
      "            SyntaxWarning\n",
      "            UnicodeWarning\n",
      "            UserWarning\n",
      "                FormatterWarning\n",
      "                GetPassWarning\n",
      "        Warning\n",
      "        ZMQBaseError\n",
      "            NotDone\n",
      "            ZMQBindError\n",
      "            ZMQError\n",
      "                Again\n",
      "                ContextTerminated\n",
      "                InterruptedSystemCall\n",
      "        _Error\n",
      "        _GiveupOnSendfile\n",
      "        _JediError\n",
      "            InternalError\n",
      "            WrongVersion\n",
      "        _OptionError\n",
      "        _PositionUpdatingFinished\n",
      "        _Retry\n",
      "        _Stop\n",
      "        error\n",
      "        error\n",
      "        error\n",
      "        error\n",
      "        error\n",
      "    GeneratorExit\n",
      "    KeyboardInterrupt\n",
      "    SystemExit\n"
     ]
    }
   ],
   "source": [
    "def tree(cls, level=0):\n",
    "    yield ' ' * 4 * level + cls.__name__\n",
    "    for sub in sorted(cls.__subclasses__(), key=lambda c: c.__name__):\n",
    "        yield from tree(sub, level+1)        \n",
    "\n",
    "print(*tree(BaseException), sep='\\n')"
   ]
  },
  {
   "cell_type": "code",
   "execution_count": 14,
   "metadata": {},
   "outputs": [
    {
     "name": "stdout",
     "output_type": "stream",
     "text": [
      "Ellipsis  False  None  NotImplemented  True  __IPYTHON__\n"
     ]
    }
   ],
   "source": [
    "Const = [s for s in Names if not callable(getattr(__builtins__, s))]\n",
    "print(*Const, sep='  ')"
   ]
  },
  {
   "cell_type": "code",
   "execution_count": 15,
   "metadata": {},
   "outputs": [
    {
     "name": "stdout",
     "output_type": "stream",
     "text": [
      "__IPYTHON__  __build_class__  __debug__  __doc__  __import__  __loader__  __name__  __package__  __spec__\n"
     ]
    }
   ],
   "source": [
    "Specials = [s for s in dir(__builtins__) if s[0] == '_']\n",
    "print(*Specials, sep='  ')"
   ]
  },
  {
   "cell_type": "code",
   "execution_count": 16,
   "metadata": {},
   "outputs": [
    {
     "name": "stdout",
     "output_type": "stream",
     "text": [
      "__IPYTHON__      True\n",
      "__build_class__  <built-in function __build_class__>\n",
      "__debug__        True\n",
      "__doc__          \"Built-in functions, exceptions, and other objects.\\n\\nNoteworthy: None is the `nil' object; Ellipsis represents `...' in slices.\"\n",
      "__import__       <built-in function __import__>\n",
      "__loader__       <class '_frozen_importlib.BuiltinImporter'>\n",
      "__name__         'builtins'\n",
      "__package__      ''\n",
      "__spec__         ModuleSpec(name='builtins', loader=<class '_frozen_importlib.BuiltinImporter'>)\n"
     ]
    }
   ],
   "source": [
    "print('\\n'.join(f'{n:16s} {getattr(__builtins__, n)!r}' for n in Specials))"
   ]
  },
  {
   "cell_type": "code",
   "execution_count": 17,
   "metadata": {},
   "outputs": [
    {
     "data": {
      "text/plain": [
       "{'Ellipsis', 'False', 'None', 'NotImplemented', 'True', '__IPYTHON__'}"
      ]
     },
     "execution_count": 17,
     "metadata": {},
     "output_type": "execute_result"
    }
   ],
   "source": [
    "set(Names) - set(Exceptions)"
   ]
  },
  {
   "cell_type": "code",
   "execution_count": null,
   "metadata": {},
   "outputs": [],
   "source": []
  }
 ],
 "metadata": {
  "kernelspec": {
   "display_name": "Python 3",
   "language": "python",
   "name": "python3"
  },
  "language_info": {
   "codemirror_mode": {
    "name": "ipython",
    "version": 3
   },
   "file_extension": ".py",
   "mimetype": "text/x-python",
   "name": "python",
   "nbconvert_exporter": "python",
   "pygments_lexer": "ipython3",
   "version": "3.7.1"
  }
 },
 "nbformat": 4,
 "nbformat_minor": 2
}
